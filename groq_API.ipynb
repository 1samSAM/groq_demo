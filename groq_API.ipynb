{
  "nbformat": 4,
  "nbformat_minor": 0,
  "metadata": {
    "colab": {
      "provenance": [],
      "authorship_tag": "ABX9TyPY5CfMo+juFkCZIryoVGBE",
      "include_colab_link": true
    },
    "kernelspec": {
      "name": "python3",
      "display_name": "Python 3"
    },
    "language_info": {
      "name": "python"
    }
  },
  "cells": [
    {
      "cell_type": "markdown",
      "metadata": {
        "id": "view-in-github",
        "colab_type": "text"
      },
      "source": [
        "<a href=\"https://colab.research.google.com/github/1samSAM/groq_demo/blob/main/groq_API.ipynb\" target=\"_parent\"><img src=\"https://colab.research.google.com/assets/colab-badge.svg\" alt=\"Open In Colab\"/></a>"
      ]
    },
    {
      "cell_type": "code",
      "execution_count": 1,
      "metadata": {
        "colab": {
          "base_uri": "https://localhost:8080/"
        },
        "id": "diq3apJH6DRX",
        "outputId": "08f87d08-1a18-467e-f753-961daf3cb2c7"
      },
      "outputs": [
        {
          "output_type": "stream",
          "name": "stdout",
          "text": [
            "\u001b[?25l   \u001b[90m━━━━━━━━━━━━━━━━━━━━━━━━━━━━━━━━━━━━━━━━\u001b[0m \u001b[32m0.0/108.8 kB\u001b[0m \u001b[31m?\u001b[0m eta \u001b[36m-:--:--\u001b[0m\r\u001b[2K   \u001b[90m━━━━━━━━━━━━━━━━━━━━━━━━━━━━━━━━━━━━━━━━\u001b[0m \u001b[32m108.8/108.8 kB\u001b[0m \u001b[31m4.6 MB/s\u001b[0m eta \u001b[36m0:00:00\u001b[0m\n",
            "\u001b[?25h"
          ]
        }
      ],
      "source": [
        "!pip install -q groq"
      ]
    },
    {
      "cell_type": "code",
      "source": [
        "from google.colab import userdata\n",
        "userdata.get('demo')"
      ],
      "metadata": {
        "colab": {
          "base_uri": "https://localhost:8080/",
          "height": 35
        },
        "id": "ijohE9859X9w",
        "outputId": "da6a9b83-b052-4905-c9df-9d0a715d4b6b"
      },
      "execution_count": 2,
      "outputs": [
        {
          "output_type": "execute_result",
          "data": {
            "text/plain": [
              "'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'"
            ],
            "application/vnd.google.colaboratory.intrinsic+json": {
              "type": "string"
            }
          },
          "metadata": {},
          "execution_count": 2
        }
      ]
    },
    {
      "cell_type": "markdown",
      "source": [
        "Basic Example of Getting **Started**"
      ],
      "metadata": {
        "id": "Ok2qySKz-H8h"
      }
    },
    {
      "cell_type": "code",
      "source": [
        "import os\n",
        "from groq import Groq\n",
        "client = Groq(\n",
        "    api_key=userdata.get('demo'),\n",
        ")\n",
        "\n",
        "chat_completion = client.chat.completions.create(\n",
        "    messages=[\n",
        "        {\n",
        "            \"role\": \"system\",\n",
        "            \"content\": \"you are a helpful assistant. Answer as  SAM\"\n",
        "        },\n",
        "\n",
        "        {\n",
        "\n",
        "            \"role\": \"user\",\n",
        "            \"content\": \"Important of AI in sales industry\"\n",
        "        }\n",
        "    ],\n",
        "    model=\"mixtral-8x7b-32768\"  # Replace with a valid model ID from Groq\n",
        ")\n",
        "print(chat_completion.choices[0].message.content)"
      ],
      "metadata": {
        "colab": {
          "base_uri": "https://localhost:8080/"
        },
        "id": "ySrZLYS--Zr2",
        "outputId": "880aa5fa-247a-4323-ac4d-4c6f7376e5be"
      },
      "execution_count": 17,
      "outputs": [
        {
          "output_type": "stream",
          "name": "stdout",
          "text": [
            "Artificial Intelligence (AI) is becoming increasingly important in the sales industry, and here are some reasons why:\n",
            "\n",
            "1. Improved Efficiency: AI can automate repetitive tasks such as data entry, lead scoring, and appointment scheduling, freeing up time for salespeople to focus on building relationships and closing deals.\n",
            "\n",
            "2. Enhanced Personalization: AI can analyze customer data to gain insights into their preferences, behaviors, and needs. Salespeople can then use this information to deliver personalized experiences that increase customer satisfaction and loyalty.\n",
            "\n",
            "3. Better Decision Making: AI can provide sales leaders with real-time analytics and data-driven insights that help them make more informed decisions. For example, AI can identify patterns and trends in sales data that might not be immediately apparent to human analysts.\n",
            "\n",
            "4. Predictive Analytics: AI can use historical data to predict future sales trends and identify potential opportunities. This can help salespeople prioritize their efforts and focus on the most promising leads.\n",
            "\n",
            "5. Improved Forecasting: AI can provide sales leaders with more accurate sales forecasts by analyzing data from multiple sources, including historical sales data, economic indicators, and market trends.\n",
            "\n",
            "6. Enhanced Customer Engagement: AI-powered chatbots and virtual assistants can engage with customers around the clock, answering questions, providing product recommendations, and even closing sales.\n",
            "\n",
            "7. Reduced Costs: By automating certain tasks, AI can help sales organizations reduce costs and increase profitability.\n",
            "\n",
            "Overall, AI has the potential to revolutionize the sales industry by providing salespeople and leaders with the tools and insights they need to work more efficiently, make better decisions, and deliver personalized experiences to their customers.\n"
          ]
        }
      ]
    },
    {
      "cell_type": "markdown",
      "source": [
        "**Streaming**"
      ],
      "metadata": {
        "id": "hufOEiBpG_A7"
      }
    },
    {
      "cell_type": "code",
      "source": [
        "import os\n",
        "from groq import Groq\n",
        "#client = Groq()\n",
        "\n",
        "stream = client.chat.completions.create(\n",
        "    messages=[\n",
        "        {\n",
        "            \"role\": \"system\",\n",
        "            \"content\": \"you are a helpful assistant. Answer as  sam\"\n",
        "        },\n",
        "\n",
        "        {\n",
        "\n",
        "            \"role\": \"user\",\n",
        "            \"content\": \"Important of AI in sales industry\"\n",
        "        }\n",
        "    ],\n",
        "    model=\"mixtral-8x7b-32768\",  # Replace with a valid model ID from Groq\n",
        "    temperature=0.5,\n",
        "    max_tokens=1024,\n",
        "    stream=True\n",
        ")\n",
        "for chunk in stream:\n",
        "    print(chunk.choices[0].delta.content, end=\"\")\n"
      ],
      "metadata": {
        "colab": {
          "base_uri": "https://localhost:8080/"
        },
        "outputId": "dd36663f-8026-4680-9b49-aecc05e5d3cf",
        "id": "awysKktTFxl_"
      },
      "execution_count": 21,
      "outputs": [
        {
          "output_type": "stream",
          "name": "stdout",
          "text": [
            "Artificial Intelligence (AI) is becoming increasingly important in the sales industry due to several reasons:\n",
            "\n",
            "1. Improved Efficiency: AI can automate repetitive tasks such as data entry, lead scoring, and appointment scheduling, freeing up sales representatives to focus on more high-value activities like building relationships with customers and closing deals.\n",
            "2. Enhanced Customer Experience: AI-powered chatbots and virtual assistants can provide 24/7 customer support, answer customer queries in real-time, and provide personalized product recommendations based on customer preferences and behavior.\n",
            "3. Better Lead Qualification: AI algorithms can analyze large volumes of data to identify patterns and trends that indicate which leads are most likely to convert into sales. This allows sales teams to prioritize their efforts and focus on the most promising leads.\n",
            "4. Predictive Analytics: AI can analyze historical sales data to predict future sales trends and identify opportunities for upselling and cross-selling. This helps sales teams to create more accurate sales forecasts and develop effective sales strategies.\n",
            "5. Improved Sales Training: AI-powered sales training platforms can analyze sales representatives' performance data to identify areas for improvement and provide personalized training recommendations. This helps sales teams to improve their skills and increase their productivity.\n",
            "\n",
            "Overall, AI is transforming the sales industry by providing sales teams with the tools and insights they need to work more efficiently, provide better customer service, and close more deals.None"
          ]
        }
      ]
    },
    {
      "cell_type": "markdown",
      "source": [
        "***Summarization***\n"
      ],
      "metadata": {
        "id": "zsTXdt-iXQhX"
      }
    },
    {
      "cell_type": "code",
      "source": [
        " text = \"\"\"\n",
        " An engineer is a professional who designs, builds, and maintains structures, machines, systems, and processes to solve complex problems and improve the quality of life for society. Engineers play a crucial role in shaping the world we live in, from the buildings we work in to the technology we use every day. They are problem solvers, innovators, and creators who use their knowledge of science, mathematics, and technology to make the world a better place.\n",
        "\n",
        "To become an engineer, one must have a strong foundation in math and science. Engineers use these disciplines to analyze and solve problems, design solutions, and test their ideas. They must also have strong critical thinking skills, attention to detail, and the ability to work well in teams. Engineers work in a variety of fields, including civil, mechanical, electrical, and chemical engineering, each with its own set of challenges and opportunities.\n",
        "\n",
        "Civil engineers are responsible for designing and building infrastructure such as roads, bridges, and buildings. They must consider factors such as safety, cost, and environmental impact when designing structures that will withstand the test of time. Mechanical engineers design and build machines and systems that help make our lives easier, from cars and airplanes to heating and cooling systems. Electrical engineers work with electricity and electronics to design and build systems that power our homes, businesses, and technology. Chemical engineers work with chemicals and materials to design processes that produce everything from pharmaceuticals to plastics.\n",
        "\n",
        "Engineers are constantly pushing the boundaries of what is possible, using their creativity and ingenuity to solve complex problems and improve existing systems. They are at the forefront of innovation, developing new technologies and processes that have the potential to change the world. From self-driving cars to renewable energy sources, engineers are driving progress and shaping the future.\n",
        "\n",
        "In addition to their technical skills, engineers must also have strong communication and interpersonal skills. They often work in teams with other professionals, such as architects, contractors, and project managers, to bring their designs to life. Engineers must be able to communicate their ideas effectively, both verbally and in writing, to ensure that everyone is on the same page and working towards a common goal.\n",
        "\n",
        "One of the most important aspects of being an engineer is the commitment to lifelong learning. Technology is constantly evolving, and engineers must stay up-to-date on the latest advancements in their field to remain competitive. This may involve taking continuing education courses, attending conferences, or pursuing advanced degrees. Engineers must also be willing to adapt to new challenges and learn new skills as they arise.\n",
        "\n",
        "In conclusion, engineers play a vital role in society, using their knowledge and skills to solve complex problems and improve the quality of life for all. They are innovators, creators, and problem solvers who push the boundaries of what is possible and shape the world we live in. By combining their technical expertise with strong communication and interpersonal skills, engineers are able to work collaboratively with others to bring their ideas to life. As technology continues to evolve, engineers must remain committed to lifelong learning and adapt to new challenges in order to stay at the forefront of innovation. Engineering is a rewarding and fulfilling career that offers endless opportunities for growth and advancement.\n",
        "Introduction to Engineering: Building the Foundation of Progress\n",
        "Engineering is the backbone of technological progress and human civilization, blending science, mathematics, and innovation to create solutions that address complex challenges. From the grand architecture of ancient monuments to the sophisticated algorithms powering modern artificial intelligence, engineering exemplifies humanity's ingenuity and drive to enhance the quality of life. This introduction explores the definition, historical evolution, and significance of engineering in the modern world.\n",
        "\n",
        "Defining Engineering: A Fusion of Science and Art\n",
        "Engineering is more than a profession—it is a discipline that involves designing, building, and maintaining systems, machines, structures, and processes. At its core, engineering applies scientific and mathematical principles to solve real-world problems, often balancing functionality, efficiency, and aesthetics. The term \"engineering\" is derived from the Latin words ingenium (cleverness) and ingeniare (to devise), emphasizing its essence as a creative and intellectual pursuit.\n",
        "\n",
        "While engineering is often viewed through the lens of physical structures or mechanical systems, its scope is far broader. It encompasses disciplines ranging from civil and mechanical engineering to more recent fields such as software engineering, biotechnology, and nanotechnology. Regardless of specialization, the hallmark of engineering lies in its practical application of theoretical knowledge to bring ideas to life.\n",
        "\n",
        "Historical Evolution of Engineering\n",
        "The history of engineering reflects humanity's relentless quest for progress. Early engineering achievements were driven by necessity and ingenuity. Ancient civilizations demonstrated remarkable engineering skills in constructing enduring structures such as the Egyptian pyramids, the Roman aqueducts, and the Great Wall of China. These feats required not only architectural brilliance but also profound understanding of materials, geometry, and workforce coordination.\n",
        "\n",
        "The medieval period saw the emergence of more specialized engineering practices, particularly in Europe, where advancements in water mills, windmills, and fortifications were crucial for survival and economic growth. However, it was the Industrial Revolution of the 18th and 19th centuries that truly transformed engineering. Steam engines, mechanized production, and transportation systems like railways and ships laid the foundation for modern industrial society. This era also formalized engineering as a profession, with educational institutions offering structured programs to train engineers.\n",
        "\n",
        "In the 20th century, engineering entered a golden age, marked by groundbreaking developments in aviation, telecommunications, electronics, and computing. The introduction of the internet and the rapid growth of digital technologies further expanded the boundaries of engineering, making it a key driver of the global economy and societal transformation.\n",
        "\n",
        "Engineering in Modern Society\n",
        "Today, engineering is an indispensable pillar of modern society, influencing every aspect of daily life. Engineers design the infrastructure that supports urban living, such as roads, bridges, water supply systems, and power grids. They also develop advanced technologies that enhance communication, healthcare, and transportation. From the towering skyscrapers in metropolitan cities to the satellites orbiting Earth, engineering solutions define the modern world.\n",
        "\n",
        "Beyond tangible creations, engineering plays a pivotal role in addressing global challenges. Climate change, resource scarcity, and population growth demand innovative solutions, and engineers are at the forefront of developing sustainable energy systems, efficient waste management strategies, and resilient urban planning models. The profession’s ability to combine technical expertise with creativity makes it uniquely suited to tackle these pressing issues.\n",
        "\n",
        "Engineering as a Driver of Innovation\n",
        "Innovation is the lifeblood of engineering. The discipline thrives on pushing boundaries and envisioning possibilities that were once thought unattainable. Consider the field of biomedical engineering, where breakthroughs such as prosthetic limbs, organ transplants, and wearable health monitors are transforming healthcare. Similarly, advances in aerospace engineering have enabled space exploration, allowing humanity to venture beyond Earth's atmosphere and explore distant planets.\n",
        "\n",
        "The intersection of engineering and emerging technologies like artificial intelligence, the Internet of Things (IoT), and robotics has further expanded the scope of innovation. Smart cities, autonomous vehicles, and precision agriculture are just a few examples of how engineering is reshaping the world. These innovations not only enhance efficiency and convenience but also open new avenues for economic growth and social development.\n",
        "\n",
        "The Role of Engineers in Society\n",
        "Engineers are more than problem-solvers; they are visionaries who shape the future. Their work requires a delicate balance between creativity and practicality, as well as a deep understanding of ethical and societal considerations. Modern engineering practices emphasize sustainability, inclusivity, and collaboration, ensuring that solutions are not only effective but also equitable and environmentally responsible.\n",
        "\n",
        "Moreover, the global nature of contemporary challenges necessitates interdisciplinary approaches. Engineers often collaborate with professionals from fields such as biology, economics, and sociology to develop holistic solutions. This shift underscores the evolving role of engineers as leaders and innovators in an increasingly interconnected world.\n",
        "\n",
        "Conclusion\n",
        "Engineering is a testament to human ingenuity, perseverance, and the desire to improve the world. From ancient wonders to cutting-edge technologies, the discipline has consistently driven progress and innovation. As society continues to face complex challenges, the role of engineering will only grow in importance. By blending creativity with scientific rigor, engineers not only solve problems but also shape the course of history, laying the groundwork for a better, more sustainable future.\n",
        "\n",
        "This essay will delve deeper into the multifaceted world of engineering, exploring its foundational principles, its transformative impact on society, and its potential to address the challenges of tomorrow. Through a comprehensive examination of its past, present, and future, we aim to illuminate the enduring significance of engineering as a cornerstone of human achievement.\n",
        "\"\"\""
      ],
      "metadata": {
        "id": "hOWjcv1fHdUm"
      },
      "execution_count": 22,
      "outputs": []
    },
    {
      "cell_type": "code",
      "source": [
        "import os\n",
        "from groq import Groq\n",
        "#client = Groq()\n",
        "\n",
        "stream = client.chat.completions.create(\n",
        "    messages=[\n",
        "        {\n",
        "            \"role\": \"system\",\n",
        "            \"content\": \"you are a helpful assistant. your job is to identify main theme in the give text and create a summary.provide summary in 10 bullet points\"\n",
        "        },\n",
        "\n",
        "        {\n",
        "\n",
        "            \"role\": \"user\",\n",
        "            \"content\": f\"{text}\"\n",
        "        }\n",
        "    ],\n",
        "    model=\"mixtral-8x7b-32768\",  # Replace with a valid model ID from Groq\n",
        "    temperature=0.5,\n",
        "    max_tokens=1024,\n",
        "    stream=True\n",
        ")\n",
        "for chunk in stream:\n",
        "    print(chunk.choices[0].delta.content, end=\"\")"
      ],
      "metadata": {
        "colab": {
          "base_uri": "https://localhost:8080/"
        },
        "id": "Rb_GeAd4Z3oF",
        "outputId": "197db9e2-b8f8-4c78-f1fb-a41bd4e1f58a"
      },
      "execution_count": 24,
      "outputs": [
        {
          "output_type": "stream",
          "name": "stdout",
          "text": [
            "Summary of the text in 10 bullet points:\n",
            "\n",
            "1. Engineers are professionals who design, build, and maintain structures, machines, systems, and processes to solve complex problems and improve the quality of life for society.\n",
            "2. To become an engineer, one needs a strong foundation in math and science, critical thinking skills, attention to detail, and the ability to work well in teams.\n",
            "3. Engineers work in various fields, including civil, mechanical, electrical, and chemical engineering, each with its own set of challenges and opportunities.\n",
            "4. Civil engineers design and build infrastructure such as roads, bridges, and buildings, considering factors such as safety, cost, and environmental impact.\n",
            "5. Mechanical engineers design and build machines and systems that help make our lives easier, from cars and airplanes to heating and cooling systems.\n",
            "6. Electrical engineers work with electricity and electronics to design and build systems that power our homes, businesses, and technology.\n",
            "7. Chemical engineers work with chemicals and materials to design processes that produce everything from pharmaceuticals to plastics.\n",
            "8. Engineers must have strong communication and interpersonal skills, as they often work in teams with other professionals.\n",
            "9. Engineers must commit to lifelong learning, staying up-to-date on the latest advancements in their field and adapting to new challenges.\n",
            "10. Engineering is a vital role in society, shaping the world we live in, driving innovation, and addressing global challenges.None"
          ]
        }
      ]
    }
  ]
}